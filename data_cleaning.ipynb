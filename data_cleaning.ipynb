{
 "cells": [
  {
   "cell_type": "code",
   "execution_count": 1,
   "metadata": {},
   "outputs": [],
   "source": [
    "import pandas as pd\n",
    "import numpy as np"
   ]
  },
  {
   "cell_type": "code",
   "execution_count": 2,
   "metadata": {},
   "outputs": [],
   "source": [
    "df = pd.read_csv('./data/data.csv')"
   ]
  },
  {
   "cell_type": "code",
   "execution_count": 4,
   "metadata": {},
   "outputs": [
    {
     "data": {
      "text/html": [
       "<div>\n",
       "<style scoped>\n",
       "    .dataframe tbody tr th:only-of-type {\n",
       "        vertical-align: middle;\n",
       "    }\n",
       "\n",
       "    .dataframe tbody tr th {\n",
       "        vertical-align: top;\n",
       "    }\n",
       "\n",
       "    .dataframe thead th {\n",
       "        text-align: right;\n",
       "    }\n",
       "</style>\n",
       "<table border=\"1\" class=\"dataframe\">\n",
       "  <thead>\n",
       "    <tr style=\"text-align: right;\">\n",
       "      <th></th>\n",
       "      <th>都道府県</th>\n",
       "      <th>市町村名</th>\n",
       "      <th>自然・人文</th>\n",
       "      <th>種別名称</th>\n",
       "      <th>資源名称</th>\n",
       "      <th>資源ランク</th>\n",
       "    </tr>\n",
       "  </thead>\n",
       "  <tbody>\n",
       "    <tr>\n",
       "      <th>0</th>\n",
       "      <td>北海道</td>\n",
       "      <td>新冠町</td>\n",
       "      <td>自然</td>\n",
       "      <td>山岳</td>\n",
       "      <td>幌尻岳</td>\n",
       "      <td>B</td>\n",
       "    </tr>\n",
       "    <tr>\n",
       "      <th>1</th>\n",
       "      <td>北海道</td>\n",
       "      <td>東川町</td>\n",
       "      <td>自然</td>\n",
       "      <td>山岳</td>\n",
       "      <td>大雪山</td>\n",
       "      <td>S</td>\n",
       "    </tr>\n",
       "    <tr>\n",
       "      <th>2</th>\n",
       "      <td>北海道</td>\n",
       "      <td>利尻富士町</td>\n",
       "      <td>自然</td>\n",
       "      <td>山岳</td>\n",
       "      <td>利尻山</td>\n",
       "      <td>A</td>\n",
       "    </tr>\n",
       "    <tr>\n",
       "      <th>3</th>\n",
       "      <td>北海道</td>\n",
       "      <td>京極町</td>\n",
       "      <td>自然</td>\n",
       "      <td>山岳</td>\n",
       "      <td>羊蹄山</td>\n",
       "      <td>A</td>\n",
       "    </tr>\n",
       "    <tr>\n",
       "      <th>4</th>\n",
       "      <td>北海道</td>\n",
       "      <td>森町/鹿部町</td>\n",
       "      <td>自然</td>\n",
       "      <td>山岳</td>\n",
       "      <td>駒ヶ岳</td>\n",
       "      <td>A</td>\n",
       "    </tr>\n",
       "    <tr>\n",
       "      <th>...</th>\n",
       "      <td>...</td>\n",
       "      <td>...</td>\n",
       "      <td>...</td>\n",
       "      <td>...</td>\n",
       "      <td>...</td>\n",
       "      <td>...</td>\n",
       "    </tr>\n",
       "    <tr>\n",
       "      <th>2770</th>\n",
       "      <td>愛知</td>\n",
       "      <td>名古屋市</td>\n",
       "      <td>人文</td>\n",
       "      <td>集落・街</td>\n",
       "      <td>有松のまち</td>\n",
       "      <td>B</td>\n",
       "    </tr>\n",
       "    <tr>\n",
       "      <th>2771</th>\n",
       "      <td>秋田</td>\n",
       "      <td>男鹿市/潟上市</td>\n",
       "      <td>人文</td>\n",
       "      <td>年中行事（祭り・伝統行事）</td>\n",
       "      <td>東湖八坂神社のトウニン（統人）行事</td>\n",
       "      <td>B</td>\n",
       "    </tr>\n",
       "    <tr>\n",
       "      <th>2772</th>\n",
       "      <td>鳥取</td>\n",
       "      <td>境港市</td>\n",
       "      <td>人文</td>\n",
       "      <td>郷土景観</td>\n",
       "      <td>境港漁港</td>\n",
       "      <td>B</td>\n",
       "    </tr>\n",
       "    <tr>\n",
       "      <th>2773</th>\n",
       "      <td>香川</td>\n",
       "      <td>高松市</td>\n",
       "      <td>人文</td>\n",
       "      <td>テーマ公園・テーマ施設</td>\n",
       "      <td>四国民家博物館</td>\n",
       "      <td>B</td>\n",
       "    </tr>\n",
       "    <tr>\n",
       "      <th>2774</th>\n",
       "      <td>東京</td>\n",
       "      <td>港区</td>\n",
       "      <td>人文</td>\n",
       "      <td>テーマ公園・テーマ施設</td>\n",
       "      <td>東京ジョイポリス</td>\n",
       "      <td>B</td>\n",
       "    </tr>\n",
       "  </tbody>\n",
       "</table>\n",
       "<p>2775 rows × 6 columns</p>\n",
       "</div>"
      ],
      "text/plain": [
       "     都道府県     市町村名 自然・人文           種別名称               資源名称 資源ランク\n",
       "0     北海道      新冠町    自然             山岳                幌尻岳     B\n",
       "1     北海道      東川町    自然             山岳                大雪山     S\n",
       "2     北海道    利尻富士町    自然             山岳                利尻山     A\n",
       "3     北海道      京極町    自然             山岳                羊蹄山     A\n",
       "4     北海道   森町/鹿部町    自然             山岳                駒ヶ岳     A\n",
       "...   ...      ...   ...            ...                ...   ...\n",
       "2770   愛知     名古屋市    人文           集落・街              有松のまち     B\n",
       "2771   秋田  男鹿市/潟上市    人文  年中行事（祭り・伝統行事）  東湖八坂神社のトウニン（統人）行事     B\n",
       "2772   鳥取      境港市    人文           郷土景観               境港漁港     B\n",
       "2773   香川      高松市    人文    テーマ公園・テーマ施設            四国民家博物館     B\n",
       "2774   東京       港区    人文    テーマ公園・テーマ施設           東京ジョイポリス     B\n",
       "\n",
       "[2775 rows x 6 columns]"
      ]
     },
     "execution_count": 4,
     "metadata": {},
     "output_type": "execute_result"
    }
   ],
   "source": [
    "df.dropna(inplace=True)\n",
    "df"
   ]
  },
  {
   "cell_type": "code",
   "execution_count": 7,
   "metadata": {},
   "outputs": [],
   "source": [
    "df_count = df['都道府県'].value_counts()"
   ]
  },
  {
   "cell_type": "code",
   "execution_count": 10,
   "metadata": {},
   "outputs": [],
   "source": [
    "df_count.to_csv('./ana/value_count.csv')"
   ]
  },
  {
   "cell_type": "code",
   "execution_count": null,
   "metadata": {},
   "outputs": [],
   "source": []
  }
 ],
 "metadata": {
  "kernelspec": {
   "display_name": "Python 3.9.8 64-bit ('3.9.8')",
   "language": "python",
   "name": "python3"
  },
  "language_info": {
   "codemirror_mode": {
    "name": "ipython",
    "version": 3
   },
   "file_extension": ".py",
   "mimetype": "text/x-python",
   "name": "python",
   "nbconvert_exporter": "python",
   "pygments_lexer": "ipython3",
   "version": "3.9.8"
  },
  "orig_nbformat": 4,
  "vscode": {
   "interpreter": {
    "hash": "490e7a61a6a5c6c3e34cd0d4743452d69239458f755436e5531772fadedac44c"
   }
  }
 },
 "nbformat": 4,
 "nbformat_minor": 2
}
