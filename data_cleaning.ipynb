{
 "cells": [
  {
   "cell_type": "code",
   "execution_count": 22,
   "metadata": {},
   "outputs": [],
   "source": [
    "import pandas as pd\n",
    "import numpy as np"
   ]
  },
  {
   "cell_type": "code",
   "execution_count": 23,
   "metadata": {},
   "outputs": [],
   "source": [
    "df = pd.read_csv('./data/data.csv')"
   ]
  },
  {
   "cell_type": "code",
   "execution_count": 24,
   "metadata": {},
   "outputs": [],
   "source": [
    "# drop Nan\n",
    "df.dropna(inplace=True)\n",
    "\n",
    "df_count = df['都道府県'].value_counts()\n",
    "df_count.to_csv('./ana/value_count.csv', encoding='utf-8_sig')"
   ]
  },
  {
   "cell_type": "code",
   "execution_count": 25,
   "metadata": {},
   "outputs": [],
   "source": [
    "def drop_multi_data(df):\n",
    "    list_idx_drop = []\n",
    "    for idx in range(len(df)):\n",
    "        pref = df.loc[idx, '都道府県']\n",
    "        if '・' in pref:\n",
    "            # print(pref)\n",
    "            list_idx_drop.append(idx)   \n",
    "    df_droped = df.drop(index=list_idx_drop)\n",
    "    return df_droped\n",
    "\n",
    "area_hokkaido = ['北海道']\n",
    "area_touhoku = ['青森', '秋田', '岩手', '山形', '宮城', '山形', '福島']\n",
    "area_north_kanto = ['茨城', '栃木', '群馬']\n",
    "area_tokyo = ['東京']\n",
    "area_south_kanto = ['神奈川','千葉', '埼玉']\n",
    "area_tokai = ['山梨', '山梨県', '静岡', '愛知', '長野']\n",
    "area_hokuriku = ['新潟', '富山', '石川', '福井', '岐阜']\n",
    "area_north_kansai = ['滋賀', '京都']\n",
    "area_south_kansai = ['大阪', '和歌山', '奈良', '三重']\n",
    "area_chugoku = ['兵庫', '岡山', '鳥取', '島根', '広島', '山口']\n",
    "area_shikoku = ['香川', '徳島', '高知', '愛媛']\n",
    "area_kyusyu = ['福岡', '大分', '佐賀', '長崎', '熊本', '宮崎', '鹿児島', '沖縄']\n",
    "\n",
    "def add_area_info(df):\n",
    "    df_new = df.copy()\n",
    "    df_new.insert(0, '地域', 0)\n",
    "    list_error_idx = []\n",
    "    \n",
    "    for idx in range(len(df_new)):\n",
    "        pref = df_new.loc[idx, '都道府県']\n",
    "\n",
    "        if pref in area_hokkaido:\n",
    "            df_new.loc[idx, '地域'] = '北海道'\n",
    "        elif pref in area_touhoku:\n",
    "            df_new.loc[idx, '地域'] = '東北'\n",
    "        elif pref in area_north_kanto:\n",
    "            df_new.loc[idx, '地域'] = '北関東'\n",
    "        elif pref in area_tokyo:\n",
    "            df_new.loc[idx, '地域'] = '東京'\n",
    "        elif pref in area_south_kanto:\n",
    "            df_new.loc[idx, '地域'] = '南関東'\n",
    "        elif pref in area_tokai:\n",
    "            df_new.loc[idx, '地域'] = '東海'\n",
    "        elif pref in area_hokuriku:\n",
    "            df_new.loc[idx, '地域'] = '北陸'\n",
    "        elif pref in area_north_kansai:\n",
    "            df_new.loc[idx, '地域'] = '北関西'\n",
    "        elif pref in area_south_kansai:\n",
    "            df_new.loc[idx, '地域'] = '南関西'\n",
    "        elif pref in area_chugoku:\n",
    "            df_new.loc[idx, '地域'] = '中国'\n",
    "        elif pref in area_shikoku:\n",
    "            df_new.loc[idx, '地域'] = '四国'\n",
    "        elif pref in area_kyusyu:\n",
    "            df_new.loc[idx, '地域'] = '九州'\n",
    "        else:\n",
    "            list_error_idx.append(idx)\n",
    "            print('Error somthing wrong!')\n",
    "            \n",
    "    return df_new, list_error_idx\n"
   ]
  },
  {
   "cell_type": "code",
   "execution_count": 26,
   "metadata": {},
   "outputs": [
    {
     "name": "stdout",
     "output_type": "stream",
     "text": [
      "[]\n"
     ]
    }
   ],
   "source": [
    "\n",
    "df_drop = drop_multi_data(df)\n",
    "df_drop = df_drop.reset_index(drop=True)\n",
    "\n",
    "df_area, list_error_idx = add_area_info(df_drop)\n",
    "print(list_error_idx)\n",
    "df_area.to_csv('./ana/add_area.csv', encoding='utf-8_sig')\n"
   ]
  },
  {
   "cell_type": "code",
   "execution_count": 27,
   "metadata": {},
   "outputs": [
    {
     "data": {
      "text/html": [
       "<div>\n",
       "<style scoped>\n",
       "    .dataframe tbody tr th:only-of-type {\n",
       "        vertical-align: middle;\n",
       "    }\n",
       "\n",
       "    .dataframe tbody tr th {\n",
       "        vertical-align: top;\n",
       "    }\n",
       "\n",
       "    .dataframe thead th {\n",
       "        text-align: right;\n",
       "    }\n",
       "</style>\n",
       "<table border=\"1\" class=\"dataframe\">\n",
       "  <thead>\n",
       "    <tr style=\"text-align: right;\">\n",
       "      <th></th>\n",
       "      <th>地域</th>\n",
       "      <th>都道府県</th>\n",
       "      <th>市町村名</th>\n",
       "      <th>自然・人文</th>\n",
       "      <th>種別名称</th>\n",
       "      <th>資源名称</th>\n",
       "      <th>資源ランク</th>\n",
       "    </tr>\n",
       "  </thead>\n",
       "  <tbody>\n",
       "    <tr>\n",
       "      <th>0</th>\n",
       "      <td>北海道</td>\n",
       "      <td>北海道</td>\n",
       "      <td>新冠町</td>\n",
       "      <td>自然</td>\n",
       "      <td>山岳</td>\n",
       "      <td>幌尻岳</td>\n",
       "      <td>B</td>\n",
       "    </tr>\n",
       "    <tr>\n",
       "      <th>1</th>\n",
       "      <td>北海道</td>\n",
       "      <td>北海道</td>\n",
       "      <td>東川町</td>\n",
       "      <td>自然</td>\n",
       "      <td>山岳</td>\n",
       "      <td>大雪山</td>\n",
       "      <td>S</td>\n",
       "    </tr>\n",
       "    <tr>\n",
       "      <th>2</th>\n",
       "      <td>北海道</td>\n",
       "      <td>北海道</td>\n",
       "      <td>利尻富士町</td>\n",
       "      <td>自然</td>\n",
       "      <td>山岳</td>\n",
       "      <td>利尻山</td>\n",
       "      <td>A</td>\n",
       "    </tr>\n",
       "    <tr>\n",
       "      <th>3</th>\n",
       "      <td>北海道</td>\n",
       "      <td>北海道</td>\n",
       "      <td>京極町</td>\n",
       "      <td>自然</td>\n",
       "      <td>山岳</td>\n",
       "      <td>羊蹄山</td>\n",
       "      <td>A</td>\n",
       "    </tr>\n",
       "    <tr>\n",
       "      <th>4</th>\n",
       "      <td>北海道</td>\n",
       "      <td>北海道</td>\n",
       "      <td>森町/鹿部町</td>\n",
       "      <td>自然</td>\n",
       "      <td>山岳</td>\n",
       "      <td>駒ヶ岳</td>\n",
       "      <td>A</td>\n",
       "    </tr>\n",
       "    <tr>\n",
       "      <th>...</th>\n",
       "      <td>...</td>\n",
       "      <td>...</td>\n",
       "      <td>...</td>\n",
       "      <td>...</td>\n",
       "      <td>...</td>\n",
       "      <td>...</td>\n",
       "      <td>...</td>\n",
       "    </tr>\n",
       "    <tr>\n",
       "      <th>2688</th>\n",
       "      <td>東海</td>\n",
       "      <td>愛知</td>\n",
       "      <td>名古屋市</td>\n",
       "      <td>人文</td>\n",
       "      <td>集落・街</td>\n",
       "      <td>有松のまち</td>\n",
       "      <td>B</td>\n",
       "    </tr>\n",
       "    <tr>\n",
       "      <th>2689</th>\n",
       "      <td>東北</td>\n",
       "      <td>秋田</td>\n",
       "      <td>男鹿市/潟上市</td>\n",
       "      <td>人文</td>\n",
       "      <td>年中行事（祭り・伝統行事）</td>\n",
       "      <td>東湖八坂神社のトウニン（統人）行事</td>\n",
       "      <td>B</td>\n",
       "    </tr>\n",
       "    <tr>\n",
       "      <th>2690</th>\n",
       "      <td>中国</td>\n",
       "      <td>鳥取</td>\n",
       "      <td>境港市</td>\n",
       "      <td>人文</td>\n",
       "      <td>郷土景観</td>\n",
       "      <td>境港漁港</td>\n",
       "      <td>B</td>\n",
       "    </tr>\n",
       "    <tr>\n",
       "      <th>2691</th>\n",
       "      <td>四国</td>\n",
       "      <td>香川</td>\n",
       "      <td>高松市</td>\n",
       "      <td>人文</td>\n",
       "      <td>テーマ公園・テーマ施設</td>\n",
       "      <td>四国民家博物館</td>\n",
       "      <td>B</td>\n",
       "    </tr>\n",
       "    <tr>\n",
       "      <th>2692</th>\n",
       "      <td>東京</td>\n",
       "      <td>東京</td>\n",
       "      <td>港区</td>\n",
       "      <td>人文</td>\n",
       "      <td>テーマ公園・テーマ施設</td>\n",
       "      <td>東京ジョイポリス</td>\n",
       "      <td>B</td>\n",
       "    </tr>\n",
       "  </tbody>\n",
       "</table>\n",
       "<p>2693 rows × 7 columns</p>\n",
       "</div>"
      ],
      "text/plain": [
       "       地域 都道府県     市町村名 自然・人文           種別名称               資源名称 資源ランク\n",
       "0     北海道  北海道      新冠町    自然             山岳                幌尻岳     B\n",
       "1     北海道  北海道      東川町    自然             山岳                大雪山     S\n",
       "2     北海道  北海道    利尻富士町    自然             山岳                利尻山     A\n",
       "3     北海道  北海道      京極町    自然             山岳                羊蹄山     A\n",
       "4     北海道  北海道   森町/鹿部町    自然             山岳                駒ヶ岳     A\n",
       "...   ...  ...      ...   ...            ...                ...   ...\n",
       "2688   東海   愛知     名古屋市    人文           集落・街              有松のまち     B\n",
       "2689   東北   秋田  男鹿市/潟上市    人文  年中行事（祭り・伝統行事）  東湖八坂神社のトウニン（統人）行事     B\n",
       "2690   中国   鳥取      境港市    人文           郷土景観               境港漁港     B\n",
       "2691   四国   香川      高松市    人文    テーマ公園・テーマ施設            四国民家博物館     B\n",
       "2692   東京   東京       港区    人文    テーマ公園・テーマ施設           東京ジョイポリス     B\n",
       "\n",
       "[2693 rows x 7 columns]"
      ]
     },
     "execution_count": 27,
     "metadata": {},
     "output_type": "execute_result"
    }
   ],
   "source": [
    "df_area"
   ]
  },
  {
   "cell_type": "markdown",
   "metadata": {},
   "source": [
    "# HHIのデータを作りたい場合はこちら"
   ]
  },
  {
   "cell_type": "code",
   "execution_count": 126,
   "metadata": {},
   "outputs": [],
   "source": [
    "import pandas as pd\n",
    "df = pd.read_csv('./ana/add_area_cla.csv')"
   ]
  },
  {
   "cell_type": "code",
   "execution_count": 123,
   "metadata": {},
   "outputs": [
    {
     "data": {
      "text/html": [
       "<div>\n",
       "<style scoped>\n",
       "    .dataframe tbody tr th:only-of-type {\n",
       "        vertical-align: middle;\n",
       "    }\n",
       "\n",
       "    .dataframe tbody tr th {\n",
       "        vertical-align: top;\n",
       "    }\n",
       "\n",
       "    .dataframe thead th {\n",
       "        text-align: right;\n",
       "    }\n",
       "</style>\n",
       "<table border=\"1\" class=\"dataframe\">\n",
       "  <thead>\n",
       "    <tr style=\"text-align: right;\">\n",
       "      <th></th>\n",
       "      <th>地域</th>\n",
       "      <th>都道府県</th>\n",
       "      <th>市町村名</th>\n",
       "      <th>自然・人文</th>\n",
       "      <th>種別名称</th>\n",
       "      <th>資源名称</th>\n",
       "      <th>資源ランク</th>\n",
       "      <th>資源種類</th>\n",
       "    </tr>\n",
       "  </thead>\n",
       "  <tbody>\n",
       "    <tr>\n",
       "      <th>0</th>\n",
       "      <td>北海道</td>\n",
       "      <td>北海道</td>\n",
       "      <td>新冠町</td>\n",
       "      <td>自然</td>\n",
       "      <td>山岳</td>\n",
       "      <td>幌尻岳</td>\n",
       "      <td>B</td>\n",
       "      <td>自然資源</td>\n",
       "    </tr>\n",
       "    <tr>\n",
       "      <th>1</th>\n",
       "      <td>北海道</td>\n",
       "      <td>北海道</td>\n",
       "      <td>東川町</td>\n",
       "      <td>自然</td>\n",
       "      <td>山岳</td>\n",
       "      <td>大雪山</td>\n",
       "      <td>S</td>\n",
       "      <td>自然資源</td>\n",
       "    </tr>\n",
       "    <tr>\n",
       "      <th>2</th>\n",
       "      <td>北海道</td>\n",
       "      <td>北海道</td>\n",
       "      <td>利尻富士町</td>\n",
       "      <td>自然</td>\n",
       "      <td>山岳</td>\n",
       "      <td>利尻山</td>\n",
       "      <td>A</td>\n",
       "      <td>自然資源</td>\n",
       "    </tr>\n",
       "    <tr>\n",
       "      <th>3</th>\n",
       "      <td>北海道</td>\n",
       "      <td>北海道</td>\n",
       "      <td>京極町</td>\n",
       "      <td>自然</td>\n",
       "      <td>山岳</td>\n",
       "      <td>羊蹄山</td>\n",
       "      <td>A</td>\n",
       "      <td>自然資源</td>\n",
       "    </tr>\n",
       "    <tr>\n",
       "      <th>4</th>\n",
       "      <td>北海道</td>\n",
       "      <td>北海道</td>\n",
       "      <td>森町/鹿部町</td>\n",
       "      <td>自然</td>\n",
       "      <td>山岳</td>\n",
       "      <td>駒ヶ岳</td>\n",
       "      <td>A</td>\n",
       "      <td>自然資源</td>\n",
       "    </tr>\n",
       "    <tr>\n",
       "      <th>...</th>\n",
       "      <td>...</td>\n",
       "      <td>...</td>\n",
       "      <td>...</td>\n",
       "      <td>...</td>\n",
       "      <td>...</td>\n",
       "      <td>...</td>\n",
       "      <td>...</td>\n",
       "      <td>...</td>\n",
       "    </tr>\n",
       "    <tr>\n",
       "      <th>2688</th>\n",
       "      <td>東海</td>\n",
       "      <td>愛知</td>\n",
       "      <td>名古屋市</td>\n",
       "      <td>人文</td>\n",
       "      <td>集落・街</td>\n",
       "      <td>有松のまち</td>\n",
       "      <td>B</td>\n",
       "      <td>現代資源</td>\n",
       "    </tr>\n",
       "    <tr>\n",
       "      <th>2689</th>\n",
       "      <td>東北</td>\n",
       "      <td>秋田</td>\n",
       "      <td>男鹿市/潟上市</td>\n",
       "      <td>人文</td>\n",
       "      <td>年中行事（祭り・伝統行事）</td>\n",
       "      <td>東湖八坂神社のトウニン（統人）行事</td>\n",
       "      <td>B</td>\n",
       "      <td>歴史資源</td>\n",
       "    </tr>\n",
       "    <tr>\n",
       "      <th>2690</th>\n",
       "      <td>中国</td>\n",
       "      <td>鳥取</td>\n",
       "      <td>境港市</td>\n",
       "      <td>人文</td>\n",
       "      <td>郷土景観</td>\n",
       "      <td>境港漁港</td>\n",
       "      <td>B</td>\n",
       "      <td>歴史資源</td>\n",
       "    </tr>\n",
       "    <tr>\n",
       "      <th>2691</th>\n",
       "      <td>四国</td>\n",
       "      <td>香川</td>\n",
       "      <td>高松市</td>\n",
       "      <td>人文</td>\n",
       "      <td>テーマ公園・テーマ施設</td>\n",
       "      <td>四国民家博物館</td>\n",
       "      <td>B</td>\n",
       "      <td>現代資源</td>\n",
       "    </tr>\n",
       "    <tr>\n",
       "      <th>2692</th>\n",
       "      <td>東京</td>\n",
       "      <td>東京</td>\n",
       "      <td>港区</td>\n",
       "      <td>人文</td>\n",
       "      <td>テーマ公園・テーマ施設</td>\n",
       "      <td>東京ジョイポリス</td>\n",
       "      <td>B</td>\n",
       "      <td>現代資源</td>\n",
       "    </tr>\n",
       "  </tbody>\n",
       "</table>\n",
       "<p>2693 rows × 8 columns</p>\n",
       "</div>"
      ],
      "text/plain": [
       "       地域 都道府県     市町村名 自然・人文           種別名称               資源名称 資源ランク  資源種類\n",
       "0     北海道  北海道      新冠町    自然             山岳                幌尻岳     B  自然資源\n",
       "1     北海道  北海道      東川町    自然             山岳                大雪山     S  自然資源\n",
       "2     北海道  北海道    利尻富士町    自然             山岳                利尻山     A  自然資源\n",
       "3     北海道  北海道      京極町    自然             山岳                羊蹄山     A  自然資源\n",
       "4     北海道  北海道   森町/鹿部町    自然             山岳                駒ヶ岳     A  自然資源\n",
       "...   ...  ...      ...   ...            ...                ...   ...   ...\n",
       "2688   東海   愛知     名古屋市    人文           集落・街              有松のまち     B  現代資源\n",
       "2689   東北   秋田  男鹿市/潟上市    人文  年中行事（祭り・伝統行事）  東湖八坂神社のトウニン（統人）行事     B  歴史資源\n",
       "2690   中国   鳥取      境港市    人文           郷土景観               境港漁港     B  歴史資源\n",
       "2691   四国   香川      高松市    人文    テーマ公園・テーマ施設            四国民家博物館     B  現代資源\n",
       "2692   東京   東京       港区    人文    テーマ公園・テーマ施設           東京ジョイポリス     B  現代資源\n",
       "\n",
       "[2693 rows x 8 columns]"
      ]
     },
     "execution_count": 123,
     "metadata": {},
     "output_type": "execute_result"
    }
   ],
   "source": [
    "df"
   ]
  },
  {
   "cell_type": "markdown",
   "metadata": {},
   "source": [
    "# 地域"
   ]
  },
  {
   "cell_type": "code",
   "execution_count": 124,
   "metadata": {},
   "outputs": [],
   "source": [
    "list_area = df['地域'].unique().tolist()\n",
    "list_for_df = []\n",
    "for area in list_area:\n",
    "    df_tmp = df[df['地域'] == area]\n",
    "    list_n = [area]\n",
    "    # 個数を求める\n",
    "    for name_kind in ['自然資源', '歴史資源', '現代資源']:\n",
    "        num = df_tmp.groupby('資源種類').count().loc[name_kind,'資源ランク']\n",
    "        list_n.append(num)\n",
    "    # 地域毎の資源数\n",
    "    n_asset = 0\n",
    "    for i in range(3):\n",
    "        n_asset += list_n[i+1]\n",
    "    list_n.append(n_asset)\n",
    "    # 割合とHHIを求める\n",
    "    hhi = 0\n",
    "    for n in range(3):\n",
    "        list_n.append(list_n[n+1]/n_asset)\n",
    "        hhi+=(list_n[n+1]/n_asset)**2\n",
    "    list_n.append(hhi)\n",
    "    list_for_df.append(list_n)\n",
    "list_columns = ('地域', '自然資源', '歴史資源', '現代資源', '資源総数','自然資源_割合', '歴史資源_割合', '現代資源_割合', 'HHI指数')\n",
    "df_new = pd.DataFrame(list_for_df, columns=list_columns)\n",
    "df_new.to_csv('./results/hhi_and_describe.csv', index=False, encoding='utf-8_sig')"
   ]
  },
  {
   "cell_type": "markdown",
   "metadata": {},
   "source": [
    "# 都道府県"
   ]
  },
  {
   "cell_type": "code",
   "execution_count": 125,
   "metadata": {},
   "outputs": [],
   "source": [
    "list_area = df['都道府県'].unique().tolist()\n",
    "list_for_df = []\n",
    "for area in list_area:\n",
    "    df_tmp = df[df['都道府県'] == area]\n",
    "    list_n = [area]\n",
    "    # 個数を求める\n",
    "    for name_kind in ['自然資源', '歴史資源', '現代資源']:\n",
    "        try:\n",
    "            num = df_tmp.groupby('資源種類').count().loc[name_kind,'資源ランク']\n",
    "        except:\n",
    "            print(area, name_kind)\n",
    "            num=0\n",
    "        list_n.append(num)\n",
    "    # 地域毎の資源数\n",
    "    n_asset = 0\n",
    "    for i in range(3):\n",
    "        n_asset += list_n[i+1]\n",
    "    list_n.append(n_asset)\n",
    "    # 割合とHHIを求める\n",
    "    hhi = 0\n",
    "    for n in range(3):\n",
    "        list_n.append(list_n[n+1]/n_asset)\n",
    "        hhi+=(list_n[n+1]/n_asset)**2\n",
    "    list_n.append(hhi)\n",
    "    list_for_df.append(list_n)\n",
    "list_columns = ('都道府県', '自然資源', '歴史資源', '現代資源', '資源総数','自然資源_割合', '歴史資源_割合', '現代資源_割合', 'HHI指数')\n",
    "df_new = pd.DataFrame(list_for_df, columns=list_columns)\n",
    "df_new.to_csv('./results/hhi_and_describe_pref.csv', index=False, encoding='utf-8_sig')"
   ]
  },
  {
   "cell_type": "code",
   "execution_count": null,
   "metadata": {},
   "outputs": [],
   "source": []
  },
  {
   "cell_type": "markdown",
   "metadata": {},
   "source": [
    "# その他"
   ]
  },
  {
   "cell_type": "code",
   "execution_count": 87,
   "metadata": {},
   "outputs": [
    {
     "name": "stdout",
     "output_type": "stream",
     "text": [
      "[0.6959459459459459, 0.12162162162162163, 0.18243243243243243]\n",
      "[0.4827586206896552, 0.31724137931034485, 0.2]\n",
      "[0.49333333333333335, 0.31333333333333335, 0.19333333333333333]\n",
      "[0.4055299539170507, 0.39631336405529954, 0.19815668202764977]\n",
      "[0.2980132450331126, 0.4503311258278146, 0.25165562913907286]\n",
      "[0.2737430167597765, 0.2122905027932961, 0.5139664804469274]\n",
      "[0.398406374501992, 0.4103585657370518, 0.19123505976095617]\n",
      "[0.26717557251908397, 0.48091603053435117, 0.25190839694656486]\n",
      "[0.17164179104477612, 0.6231343283582089, 0.20522388059701493]\n",
      "[0.33587786259541985, 0.48091603053435117, 0.183206106870229]\n",
      "[0.4534005037783375, 0.31738035264483627, 0.22921914357682618]\n",
      "[0.12048192771084337, 0.7068273092369478, 0.17269076305220885]\n"
     ]
    }
   ],
   "source": [
    "list_n_asset = []\n",
    "for idx in range(len(df_new)):\n",
    "    sums = df_new.iloc[idx, 1:4].sum()\n",
    "    list_n_asset.append(sums)\n",
    "    list_rate = []\n",
    "    for i in range(3):\n",
    "        list_rate.append(df_new.iloc[idx, i+1]/sums)\n",
    "    print(list_rate)\n",
    "df_n_asset = pd.DataFrame(list_n_asset, index=list_area)\n",
    "df_n_asset\n",
    "df_n_asset.to_csv('n_asset.csv', encoding='utf-8_sig')"
   ]
  },
  {
   "cell_type": "code",
   "execution_count": 86,
   "metadata": {},
   "outputs": [],
   "source": [
    "list_hhi = []\n",
    "for idx in range(len(df_new)):\n",
    "    sums = df_new.iloc[idx, 1:4].sum()\n",
    "    hhi = 0\n",
    "    for i in range(3):\n",
    "        hhi += (df_new.iloc[idx, i+1]/sums)**2\n",
    "    list_hhi.append(hhi)\n",
    "df_hhi = pd.DataFrame(list_hhi, index=list_area)\n",
    "df_hhi\n",
    "df_hhi.to_csv('hhi.csv', encoding='utf-8_sig')"
   ]
  },
  {
   "cell_type": "code",
   "execution_count": null,
   "metadata": {},
   "outputs": [],
   "source": []
  },
  {
   "cell_type": "code",
   "execution_count": null,
   "metadata": {},
   "outputs": [],
   "source": []
  },
  {
   "cell_type": "code",
   "execution_count": null,
   "metadata": {},
   "outputs": [],
   "source": []
  },
  {
   "cell_type": "code",
   "execution_count": 31,
   "metadata": {},
   "outputs": [],
   "source": [
    "df_tmp = df.query('地域 == \"北海道\"')\n",
    "arr_tmp = df_tmp.groupby('資源種類').count().values"
   ]
  },
  {
   "cell_type": "code",
   "execution_count": 25,
   "metadata": {},
   "outputs": [
    {
     "name": "stdout",
     "output_type": "stream",
     "text": [
      "<class 'pandas.core.frame.DataFrame'>\n"
     ]
    }
   ],
   "source": [
    "print(type(df_tmp.groupby('資源種類').count()))"
   ]
  },
  {
   "cell_type": "code",
   "execution_count": 33,
   "metadata": {},
   "outputs": [
    {
     "data": {
      "text/plain": [
       "array([18, 18, 18, 18, 18, 18, 18])"
      ]
     },
     "execution_count": 33,
     "metadata": {},
     "output_type": "execute_result"
    }
   ],
   "source": [
    "arr_tmp[]"
   ]
  },
  {
   "cell_type": "code",
   "execution_count": 36,
   "metadata": {},
   "outputs": [
    {
     "data": {
      "text/plain": [
       "地域       18\n",
       "都道府県     18\n",
       "市町村名     18\n",
       "自然・人文    18\n",
       "種別名称     18\n",
       "資源名称     18\n",
       "資源ランク    18\n",
       "Name: 歴史資源, dtype: int64"
      ]
     },
     "execution_count": 36,
     "metadata": {},
     "output_type": "execute_result"
    }
   ],
   "source": [
    "df_tmp.groupby('資源種類').count().loc['歴史資源',:]"
   ]
  },
  {
   "cell_type": "code",
   "execution_count": 57,
   "metadata": {},
   "outputs": [
    {
     "name": "stdout",
     "output_type": "stream",
     "text": [
      "['s', 'k']\n"
     ]
    }
   ],
   "source": [
    "a = ['s']\n",
    "b = ['k']\n",
    "print(a+b)"
   ]
  },
  {
   "cell_type": "code",
   "execution_count": null,
   "metadata": {},
   "outputs": [],
   "source": []
  }
 ],
 "metadata": {
  "kernelspec": {
   "display_name": "Python 3.9.8 64-bit ('3.9.8')",
   "language": "python",
   "name": "python3"
  },
  "language_info": {
   "codemirror_mode": {
    "name": "ipython",
    "version": 3
   },
   "file_extension": ".py",
   "mimetype": "text/x-python",
   "name": "python",
   "nbconvert_exporter": "python",
   "pygments_lexer": "ipython3",
   "version": "3.9.8"
  },
  "orig_nbformat": 4,
  "vscode": {
   "interpreter": {
    "hash": "490e7a61a6a5c6c3e34cd0d4743452d69239458f755436e5531772fadedac44c"
   }
  }
 },
 "nbformat": 4,
 "nbformat_minor": 2
}
